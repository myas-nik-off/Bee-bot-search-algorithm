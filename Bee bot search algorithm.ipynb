{
 "cells": [
  {
   "cell_type": "code",
   "execution_count": 1,
   "id": "4486f8a7",
   "metadata": {},
   "outputs": [
    {
     "name": "stdout",
     "output_type": "stream",
     "text": [
      "Enter number of columns in maze: 10\n",
      "Enter number of rows in maze: 10\n",
      "Start point is: (3, 4) Finish point is: (6, 9)\n"
     ]
    },
    {
     "data": {
      "text/plain": [
       "[[1, 1, 0, 0, 1, 1, 1, 1, 0, 0],\n",
       " [0, 0, 0, 1, 0, 1, 0, 1, 1, 1],\n",
       " [0, 0, 0, 1, 1, 1, 1, 0, 0, 0],\n",
       " [0, 0, 0, 0, 2, 0, 0, 0, 1, 1],\n",
       " [0, 0, 0, 1, 1, 1, 0, 0, 0, 0],\n",
       " [1, 1, 1, 1, 1, 0, 0, 0, 0, 1],\n",
       " [1, 1, 0, 1, 1, 1, 1, 1, 1, 3],\n",
       " [0, 0, 1, 1, 0, 1, 0, 1, 0, 1],\n",
       " [0, 1, 1, 0, 1, 1, 0, 1, 0, 1],\n",
       " [1, 0, 0, 0, 0, 0, 0, 0, 0, 0]]"
      ]
     },
     "execution_count": 1,
     "metadata": {},
     "output_type": "execute_result"
    }
   ],
   "source": [
    "import random\n",
    "import time\n",
    "\n",
    "w = int (input ('Enter number of columns in maze: '))\n",
    "h = int (input ('Enter number of rows in maze: '))\n",
    "matrix = [[random.randint(0,1) for x in range (w)] for y in range (h)]\n",
    "x_initial = random.randint(0, h-1)\n",
    "y_initial = random.randint (0, w-1)\n",
    "matrix[x_initial][y_initial] = 2\n",
    "x_final = random.randint(0, h-1)\n",
    "y_final = random.randint (0, w-1)\n",
    "matrix[x_final][y_final] = 3\n",
    "start = (x_initial, y_initial)\n",
    "finish = (x_final, y_final)\n",
    "print ('Start point is:', start, 'Finish point is:', finish)\n",
    "matrix"
   ]
  },
  {
   "cell_type": "code",
   "execution_count": 2,
   "id": "92c28c1e",
   "metadata": {},
   "outputs": [
    {
     "data": {
      "text/plain": [
       "'def element_colour(handle, color):\\n    for matrix[ ] = 0:\\n        return ctypes.windll.kernel32.SetConsoleTextAttribute(0, black)'"
      ]
     },
     "execution_count": 2,
     "metadata": {},
     "output_type": "execute_result"
    }
   ],
   "source": [
    "\"\"\"def element_colour(handle, color):\n",
    "    for matrix[ ] = 0:\n",
    "        return ctypes.windll.kernel32.SetConsoleTextAttribute(0, black)\"\"\""
   ]
  },
  {
   "cell_type": "code",
   "execution_count": 11,
   "id": "18f29764",
   "metadata": {},
   "outputs": [
    {
     "name": "stdout",
     "output_type": "stream",
     "text": [
      "N\n"
     ]
    }
   ],
   "source": [
    "initial_position = start\n",
    "directions = ['E', 'W', 'N', 'S']\n",
    "initial_direction = random.choice(directions)\n",
    "initial_state = (initial_position , initial_direction)\n",
    "final_position = finish\n",
    "bot_direction = initial_direction\n",
    "final_state = (final_position, bot_direction)\n",
    "bot_position = initial_position\n",
    "bot_direction = initial_direction\n",
    "bot_state = (bot_position, bot_direction)\n",
    "\n",
    "print (bot_direction)"
   ]
  },
  {
   "cell_type": "code",
   "execution_count": 12,
   "id": "aff21c71",
   "metadata": {},
   "outputs": [],
   "source": [
    "def turn_right (bot_position, bot_direction):\n",
    "    if bot_direction == 'E':\n",
    "        return (bot_position, 'S')\n",
    "    if bot_direction == 'W':\n",
    "        return (bot_position, 'N')\n",
    "    if bot_direction == 'N':\n",
    "        return (bot_position, 'E')\n",
    "    if bot_direction == 'S':\n",
    "        return (bot_position, 'W')\n",
    "    \n",
    "def turn_left (bot_position, bot_direction):\n",
    "    if bot_direction == 'E':\n",
    "        return (bot_position, 'N')\n",
    "    if bot_direction == 'W':\n",
    "        return (bot_position, 'S')\n",
    "    if bot_direction == 'N':\n",
    "        return (bot_position, 'W')\n",
    "    if bot_direction == 'S':\n",
    "        return (bot_position, 'E')\n",
    "    \n",
    "def go_up (bot_position, bot_direction):\n",
    "    if bot_direction == 'E':\n",
    "        return ((bot_position[0], bot_position[1] + 1), bot_direction)\n",
    "    if bot_direction == 'W':\n",
    "        return ((bot_position[0], bot_position[1] - 1), bot_direction)\n",
    "    if bot_direction == 'N':\n",
    "        return ((bot_position[0] - 1, bot_position[1]), bot_direction)\n",
    "    if bot_direction == 'S':\n",
    "        return ((bot_position[0] + 1, bot_position[1]), bot_direction)\n",
    "    \n",
    "def go_down (bot_position, bot_direction):\n",
    "    if bot_direction == 'E':\n",
    "        return ((bot_position[0], bot_position[1] - 1), bot_direction)\n",
    "    if bot_direction == 'W':\n",
    "        return ((bot_position[0], bot_position[1] + 1), bot_direction)\n",
    "    if bot_direction == 'N':\n",
    "        return ((bot_position[0] + 1, bot_position[1]), bot_direction)\n",
    "    if bot_direction == 'S':\n",
    "        return ((bot_position[0] - 1, bot_position[1]), bot_direction)\n",
    "    \n",
    "def rules (matrix, x, y):\n",
    "    if (x < 0 or x > (w-1) or y < 0 or y > (h-1)):\n",
    "        return False\n",
    "    if matrix[x][y] == 0:\n",
    "        return False\n",
    "    return True\n",
    "    \n",
    "def possible_next_states (bot_position, bot_direction):\n",
    "    actions = go_up (bot_position, bot_direction), go_down (bot_position, bot_direction), turn_right (bot_position, bot_direction), turn_left (bot_position, bot_direction)\n",
    "    return list(actions)\n",
    "\n",
    "steps_until_now = [ ]"
   ]
  },
  {
   "cell_type": "code",
   "execution_count": 13,
   "id": "92f6fc6a",
   "metadata": {},
   "outputs": [
    {
     "name": "stdout",
     "output_type": "stream",
     "text": [
      "[((2, 4), 'N'), ((3, 4), 'N'), ((4, 4), 'N'), ((5, 4), 'N'), ((6, 4), 'N'), ((6, 4), 'E'), ((6, 5), 'E'), ((6, 6), 'E'), ((6, 7), 'E'), ((6, 8), 'E'), ((6, 9), 'E'), ((6, 9), 'S'), ((7, 9), 'S'), ((8, 9), 'S'), ((8, 9), 'W'), ((8, 9), 'N'), ((7, 9), 'N'), ((6, 9), 'N')] \n",
      "\n",
      " 18\n",
      "\n",
      "0.0008788108825683594 seconds\n"
     ]
    }
   ],
   "source": [
    "start_time_DFS = time.time()\n",
    "\n",
    "def DFS (bot_state, final_state, steps_until_now):\n",
    "    if bot_state == final_state:\n",
    "        return steps_until_now\n",
    "\n",
    "    for next_step in possible_next_states(bot_state[0], bot_state[1]):\n",
    "        if rules(matrix, bot_state[0][0], bot_state[0][1]) and next_step not in steps_until_now:\n",
    "            candidate_steps = steps_until_now + [next_step]\n",
    "            candidate_solution = DFS(next_step, final_state, candidate_steps)\n",
    "            if candidate_solution is not None:\n",
    "                return candidate_solution\n",
    "    return None\n",
    "\n",
    "steps = list()\n",
    "    \n",
    "if rules(matrix, bot_state[0][0], bot_state[0][1]):\n",
    "    route_DFS = DFS (initial_state, final_state, steps)\n",
    "    if route_DFS is not None:\n",
    "        print(route_DFS,'\\n\\n',len(route_DFS))\n",
    "    else:\n",
    "        print('Its a trap!')\n",
    "print('\\n''%s seconds' % (time.time() - start_time_DFS))"
   ]
  },
  {
   "cell_type": "code",
   "execution_count": 6,
   "id": "8dffbb7d",
   "metadata": {},
   "outputs": [
    {
     "data": {
      "text/plain": [
       "\"start_time = time.time()\\n    def DFS (bot_state, final_state, steps_until_now):\\n    candidate_solutions = [ ]\\n    if bot_state == final_state:\\n        return [steps_until_now]\\n\\n    for next_step in possible_next_states(bot_state[0], bot_state[1]):\\n        if rules(matrix, bot_state[0][0], bot_state[0][1]) and next_step not in steps_until_now:\\n            candidate_steps = steps_until_now + [next_step]\\n            candidate_solution = DFS(next_step, final_state, candidate_steps)\\n            if candidate_solution:\\n                candidate_solutions.extend(candidate_solution)\\n    return candidate_solutions\\n\\nsolutions = DFS (initial_state, final_state, [ ])\\nif len(solutions) < 1:\\n     print('Its a trap!')\\n        \\nmin_len = len(solutions[0])\\nmin_index = 0\\nfor i, solution in enumerate(solutions):\\n    if len(solution) < min_len:\\n        min_len = len(solution)\\n        min_index = i\\nprint(min_len, '\\n', solution)\\nprint('\\n''%s seconds' % (time.time() - start_time))\""
      ]
     },
     "execution_count": 6,
     "metadata": {},
     "output_type": "execute_result"
    }
   ],
   "source": [
    "# To find all the paths with DFS and choose the shortest one - run the code below instead of the block above. (It can take a lot of time to proces)\n",
    "\n",
    "\"\"\"start_time = time.time()\n",
    "    def DFS (bot_state, final_state, steps_until_now):\n",
    "    candidate_solutions = [ ]\n",
    "    if bot_state == final_state:\n",
    "        return [steps_until_now]\n",
    "\n",
    "    for next_step in possible_next_states(bot_state[0], bot_state[1]):\n",
    "        if rules(matrix, bot_state[0][0], bot_state[0][1]) and next_step not in steps_until_now:\n",
    "            candidate_steps = steps_until_now + [next_step]\n",
    "            candidate_solution = DFS(next_step, final_state, candidate_steps)\n",
    "            if candidate_solution:\n",
    "                candidate_solutions.extend(candidate_solution)\n",
    "    return candidate_solutions\n",
    "\n",
    "solutions = DFS (initial_state, final_state, [ ])\n",
    "if len(solutions) < 1:\n",
    "     print('Its a trap!')\n",
    "        \n",
    "min_len = len(solutions[0])\n",
    "min_index = 0\n",
    "for i, solution in enumerate(solutions):\n",
    "    if len(solution) < min_len:\n",
    "        min_len = len(solution)\n",
    "        min_index = i\n",
    "print(min_len, '\\n', solution)\n",
    "print('\\n''%s seconds' % (time.time() - start_time))\"\"\""
   ]
  },
  {
   "cell_type": "code",
   "execution_count": 14,
   "id": "53e3dd11",
   "metadata": {},
   "outputs": [
    {
     "name": "stdout",
     "output_type": "stream",
     "text": [
      "[] [] ((3, 4), 'N') ((3, 4), 'N')\n",
      "[((3, 4), 'N')] [(3, 4)] ((3, 4), 'N') ((4, 4), 'N')\n",
      "[((3, 4), 'N'), ((4, 4), 'N')] [(3, 4), (4, 4)] ((3, 4), 'N') ((5, 4), 'N')\n",
      "[((3, 4), 'N'), ((4, 4), 'N'), ((5, 4), 'N')] [(3, 4), (4, 4), (5, 4)] ((3, 4), 'N') ((6, 4), 'N')\n",
      "[((3, 4), 'N'), ((4, 4), 'N'), ((5, 4), 'N'), ((6, 4), 'N')] [(3, 4), (4, 4), (5, 4)] ((3, 4), 'N') ((6, 4), 'E')\n",
      "[((3, 4), 'N'), ((4, 4), 'N'), ((5, 4), 'N'), ((6, 4), 'N'), ((6, 4), 'E')] [(3, 4), (4, 4), (5, 4), (6, 4), (6, 4)] ((3, 4), 'N') ((6, 5), 'E')\n",
      "[((3, 4), 'N'), ((4, 4), 'N'), ((5, 4), 'N'), ((6, 4), 'N'), ((6, 4), 'E'), ((6, 5), 'E')] [(3, 4), (4, 4), (5, 4), (6, 4), (6, 4), (6, 5)] ((3, 4), 'N') ((6, 6), 'E')\n",
      "[((3, 4), 'N'), ((4, 4), 'N'), ((5, 4), 'N'), ((6, 4), 'N'), ((6, 4), 'E'), ((6, 5), 'E'), ((6, 6), 'E')] [(3, 4), (4, 4), (5, 4), (6, 4), (6, 4), (6, 5), (6, 6)] ((3, 4), 'N') ((6, 7), 'E')\n",
      "[((3, 4), 'N'), ((4, 4), 'N'), ((5, 4), 'N'), ((6, 4), 'N'), ((6, 4), 'E'), ((6, 5), 'E'), ((6, 6), 'E'), ((6, 7), 'E')] [(3, 4), (4, 4), (5, 4), (6, 4), (6, 4), (6, 5), (6, 6), (6, 7)] ((3, 4), 'N') ((6, 8), 'E')\n",
      "[((3, 4), 'N'), ((4, 4), 'N'), ((5, 4), 'N'), ((6, 4), 'N'), ((6, 4), 'E'), ((6, 5), 'E'), ((6, 6), 'E'), ((6, 7), 'E'), ((6, 8), 'E')] [(3, 4), (4, 4), (5, 4), (6, 4), (6, 4), (6, 5), (6, 6), (6, 7), (6, 8)] ((3, 4), 'N') ((6, 9), 'E')\n",
      "[((3, 4), 'N'), ((4, 4), 'N'), ((5, 4), 'N'), ((6, 4), 'N'), ((6, 4), 'E'), ((6, 5), 'E'), ((6, 6), 'E'), ((6, 7), 'E'), ((6, 8), 'E'), ((6, 9), 'E')] \n",
      "\n",
      " 10\n",
      "\n",
      "0.0019481182098388672 seconds\n"
     ]
    }
   ],
   "source": [
    "start_time_AStar = time.time()\n",
    "\n",
    "def AStar(initial_state, final_state, bot_state, path):\n",
    "\n",
    "    def man_dist(bot_state):\n",
    "        return abs(final_state[0][0] - bot_state[0][0]) + abs(final_state[0][1] - bot_state[0][1])\n",
    "\n",
    "    def bots_path(bot_state):\n",
    "        return abs(initial_state[0][0] - bot_state[0][0]) + abs(initial_state[0][1] - bot_state[0][1])\n",
    "\n",
    "    def node_cost(bot_state):\n",
    "        return (man_dist(bot_state) + bots_path(bot_state))\n",
    "    \n",
    "    visited_cells = [state[0] for state in path if state[0] != bot_state[0]]\n",
    "    print(path, visited_cells, initial_state, bot_state)\n",
    "    path.append(bot_state)\n",
    "    if bot_state[0] == final_state[0]:\n",
    "        return path\n",
    "    \n",
    "    candidates = possible_next_states(*bot_state)\n",
    "    \n",
    "    while len(candidates) > 0:\n",
    "        best_candidate, best_candidate_index = candidates[0], 0\n",
    "        for e, candidate in enumerate (candidates):\n",
    "            if node_cost(best_candidate) > node_cost(candidate):\n",
    "                best_candidate, best_candidate_index = candidate, e\n",
    "                \n",
    "        candidates.pop(best_candidate_index)\n",
    "        if best_candidate not in path and best_candidate[0] not in visited_cells:\n",
    "            if rules (matrix, *best_candidate[0]):\n",
    "                possible_route = AStar(initial_state, final_state, best_candidate, path)\n",
    "                if possible_route is not None:\n",
    "                    return possible_route\n",
    "                \n",
    "if rules(matrix, bot_state[0][0], bot_state[0][1]):\n",
    "    route_AStar = AStar (initial_state, final_state, bot_state, [])\n",
    "    if route_AStar is not None:\n",
    "        print(route_AStar,'\\n\\n',len(route_AStar))\n",
    "    else:\n",
    "        print('Its a trap!')\n",
    "print('\\n''%s seconds' % (time.time() - start_time_AStar))"
   ]
  },
  {
   "cell_type": "code",
   "execution_count": 15,
   "id": "b18e9ddc",
   "metadata": {},
   "outputs": [
    {
     "name": "stdout",
     "output_type": "stream",
     "text": [
      "DFS moves: 18 | A* moves: 10\n",
      "\n",
      " DFS time (seconds): 4.051240921020508 | A* time (seconds): 1.5596849918365479\n"
     ]
    }
   ],
   "source": [
    "print('DFS moves:', len(route_DFS), '|', 'A* moves:', len(route_AStar))\n",
    "print('\\n','DFS time (seconds):', (time.time() - start_time_DFS), '|', 'A* time (seconds):', (time.time() - start_time_AStar))\n",
    "\n",
    "# A* searching method should be less quick but more efficient, as it finds the shortest path to the goal. \n",
    "# Whereas, DFS method should be quick and very inaccurate, as it returns the first solution.\n",
    "# However, here we can see that A* method is both more efficient and faster."
   ]
  },
  {
   "cell_type": "markdown",
   "id": "7ebc4330",
   "metadata": {},
   "source": [
    "# "
   ]
  }
 ],
 "metadata": {
  "kernelspec": {
   "display_name": "Python 3 (ipykernel)",
   "language": "python",
   "name": "python3"
  },
  "language_info": {
   "codemirror_mode": {
    "name": "ipython",
    "version": 3
   },
   "file_extension": ".py",
   "mimetype": "text/x-python",
   "name": "python",
   "nbconvert_exporter": "python",
   "pygments_lexer": "ipython3",
   "version": "3.9.12"
  }
 },
 "nbformat": 4,
 "nbformat_minor": 5
}
